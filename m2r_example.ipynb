{
 "cells": [
  {
   "cell_type": "code",
   "execution_count": 2,
   "metadata": {},
   "outputs": [],
   "source": [
    "import os\n",
    "import pickle\n",
    "import cobra\n",
    "\n",
    "from m2r import Microbiota2Recon"
   ]
  },
  {
   "cell_type": "code",
   "execution_count": 3,
   "metadata": {},
   "outputs": [
    {
     "name": "stdout",
     "output_type": "stream",
     "text": [
      "\n",
      "\n",
      "Welcome to Microbiota-to-Recon (M2R) program!\n",
      "\n",
      " ***************************\n",
      " * __   __   ___     ____  *\n",
      " *|  \\ /  | / _ \\   |  _ \\ *\n",
      " *|   ^   | \\/ \\ |  | |_|/ *\n",
      " *|  | |  |   / /_  |   \\  *\n",
      " *|__| |__|  /____\\ |_|\\_\\ *\n",
      " *                         *\n",
      " ***************************\n",
      "© E. Weglarz-Tomczak & J. Tomczak\n",
      "\n",
      "This program consists of three steps that modify RECON\n",
      "by introducing information from microbiota.\n",
      "\n",
      "------------------\n",
      "\n",
      "Please provide a folder name where the microbiota files (.mat) are (default: microbiota): \n",
      "\t -> microbiota\n",
      "Please provide a list of names of microbiota that are supposed to influence the model separated by a space (e.g., Ruminococcus_sp_5_1_39BFAA.mat Acinetobacter_baumannii_AB0057.mat, default: load all files from the folder): \n",
      "\t -> all files in the directory will be loaded\n",
      "Please provide a value of the weight (between 0 and 1; default: 0.5): \n",
      "\t -> 0.5\n",
      "Please provide a value that fluxes should be normalized to (default: 1000.): \n",
      "\t -> 1000.0\n",
      "Please provide a directory name where the model is (default: models): \n",
      "\t -> models\n",
      "Please provide a name of the model (please rememeber about the extension: either .mat, .json, .xml, .yaml or .pickle): Recon3DModel_301.pickle\n",
      "\t -> Recon3DModel_301.pickle\n",
      "\t Loading the model (this may take a while)...\n",
      "\t\t ...success!\n",
      "Please provide a name for the new model (possible extensions: .mat, .json, .xml, .yaml or .pickle, e.g., New_recon.mat): new.json\n",
      "\t -> new.json\n",
      "\n",
      "All is set up!\n",
      "Let`s start!\n",
      "\n",
      "------------------\n",
      "\n"
     ]
    }
   ],
   "source": [
    "m2r = Microbiota2Recon()"
   ]
  },
  {
   "cell_type": "code",
   "execution_count": 4,
   "metadata": {},
   "outputs": [
    {
     "name": "stdout",
     "output_type": "stream",
     "text": [
      "Step 1/3: Read microbiota...\n",
      "\t(File 1 out of 2) Trueperella_pyogenes_MS249.mat\n",
      "\t(File 2 out of 2) Vibrio_fluvialis_560.mat\n",
      "\t...done!\n",
      "\n"
     ]
    }
   ],
   "source": [
    "ins, outs = m2r.calculate_ins_outs(m2r.files, m2r.folder)"
   ]
  },
  {
   "cell_type": "code",
   "execution_count": 15,
   "metadata": {},
   "outputs": [
    {
     "data": {
      "text/plain": [
       "{'arg_L[e]': 1000.0,\n",
       " 'glyc3p[e]': 1000.0,\n",
       " 'lac_L[e]': 455.57399980731657,\n",
       " 'o2[e]': 757.0405666767432,\n",
       " 'h2o[e]': 212.10695440753682,\n",
       " 'amp[e]': 83.42143350131312,\n",
       " '2obut[e]': 38.84133486838294,\n",
       " 'glyleu[e]': 28.50440546632224,\n",
       " 'ala_L[e]': 25.952219400667076,\n",
       " 'ile_L[e]': 23.616043515455967,\n",
       " 'ins[e]': 20.489551125758535,\n",
       " 'gln_L[e]': 33.42061103002196,\n",
       " 'lys_L[e]': 16.354892813250316,\n",
       " 'tyr_L[e]': 24.007243793709424,\n",
       " 'ttdca[e]': 23.724466540630036,\n",
       " 'ser_L[e]': 12.999945306451504,\n",
       " 'thr_L[e]': 512.093705248363,\n",
       " 'asn_L[e]': 25.21806276218626,\n",
       " 'pro_L[e]': 23.148682319419592,\n",
       " 'hxan[e]': 8.263953613636236,\n",
       " 'glu_L[e]': 27.667591706340005,\n",
       " 'met_L[e]': 7.677414352318699,\n",
       " 'ura[e]': 5.204412920449666,\n",
       " 'lac_D[e]': 311.0600744504785,\n",
       " 'etoh[e]': 183.08579454245248,\n",
       " 'succ[e]': 161.21211881914263,\n",
       " 'gcald[e]': 137.7285269628045,\n",
       " 'cit[e]': 137.12263698176335,\n",
       " '3mop[e]': 77.1149774621916,\n",
       " 'man[e]': 33.008317688882826,\n",
       " 'glyc[e]': 29.549620408988822,\n",
       " 'val_L[e]': 24.047471756042942,\n",
       " '26dap_M[e]': 21.19513287946878,\n",
       " 'cys_L[e]': 14.558029309359497,\n",
       " 'din[e]': 11.397646846028858,\n",
       " 'phe_L[e]': 10.549400493267909,\n",
       " 'uri[e]': 8.38879424546542,\n",
       " 'no2[e]': 7.635284874185999,\n",
       " 'gam[e]': 6.830211124440318,\n",
       " 'ocdca[e]': 5.815688141460869,\n",
       " 'cytd[e]': 5.741954304205338,\n",
       " 'his_L[e]': 5.4115174779859405}"
      ]
     },
     "execution_count": 15,
     "metadata": {},
     "output_type": "execute_result"
    }
   ],
   "source": [
    "ins"
   ]
  },
  {
   "cell_type": "code",
   "execution_count": 7,
   "metadata": {},
   "outputs": [
    {
     "data": {
      "text/plain": [
       "{'for[e]': 1957.1117577513019,\n",
       " 'nh4[e]': 2000.0,\n",
       " 'pi[e]': 1962.899795703781,\n",
       " 'orn[e]': 1937.2665058529594,\n",
       " 'asp_L[e]': 840.3236702961061,\n",
       " 'ac[e]': 1783.4985310436814,\n",
       " 'h[e]': 854.6002516957932,\n",
       " 'co2[e]': 1208.8165830582361,\n",
       " 'ade[e]': 79.02471749603275,\n",
       " 'ppa[e]': 1077.6826697367621,\n",
       " 'gua[e]': 39.792684956993185,\n",
       " 'leu_L[e]': 13.991271602725504,\n",
       " 'ala_L[e]': 1000.0,\n",
       " 'pyr[e]': 638.8132848393938,\n",
       " 'gly[e]': 386.9050055303943,\n",
       " 'ser_L[e]': 217.97551984260383,\n",
       " 'dad_2[e]': 51.47959973040251}"
      ]
     },
     "execution_count": 7,
     "metadata": {},
     "output_type": "execute_result"
    }
   ],
   "source": [
    "outs"
   ]
  },
  {
   "cell_type": "code",
   "execution_count": 8,
   "metadata": {},
   "outputs": [
    {
     "name": "stdout",
     "output_type": "stream",
     "text": [
      "Step 2/3:  Normalize metabolites...\n",
      "\t... done!\n",
      "\n"
     ]
    }
   ],
   "source": [
    "ins_n, outs_n = m2r.normalize_ins_outs(ins, outs)"
   ]
  },
  {
   "cell_type": "code",
   "execution_count": 18,
   "metadata": {},
   "outputs": [
    {
     "data": {
      "text/plain": [
       "{'arg_L[e]': 1000.0,\n",
       " 'glyc3p[e]': 1000.0,\n",
       " 'lac_L[e]': 455.57399980731657,\n",
       " 'o2[e]': 757.0405666767432,\n",
       " 'h2o[e]': 212.10695440753682,\n",
       " 'amp[e]': 83.42143350131312,\n",
       " '2obut[e]': 38.84133486838294,\n",
       " 'glyleu[e]': 28.50440546632224,\n",
       " 'ala_L[e]': 25.952219400667076,\n",
       " 'ile_L[e]': 23.616043515455967,\n",
       " 'ins[e]': 20.489551125758535,\n",
       " 'gln_L[e]': 33.42061103002196,\n",
       " 'lys_L[e]': 16.354892813250316,\n",
       " 'tyr_L[e]': 24.007243793709424,\n",
       " 'ttdca[e]': 23.724466540630036,\n",
       " 'ser_L[e]': 12.999945306451504,\n",
       " 'thr_L[e]': 512.093705248363,\n",
       " 'asn_L[e]': 25.21806276218626,\n",
       " 'pro_L[e]': 23.148682319419592,\n",
       " 'hxan[e]': 8.263953613636236,\n",
       " 'glu_L[e]': 27.667591706340005,\n",
       " 'met_L[e]': 7.677414352318699,\n",
       " 'ura[e]': 5.204412920449666,\n",
       " 'lac_D[e]': 311.0600744504785,\n",
       " 'etoh[e]': 183.08579454245248,\n",
       " 'succ[e]': 161.21211881914263,\n",
       " 'gcald[e]': 137.7285269628045,\n",
       " 'cit[e]': 137.12263698176335,\n",
       " '3mop[e]': 77.1149774621916,\n",
       " 'man[e]': 33.008317688882826,\n",
       " 'glyc[e]': 29.549620408988822,\n",
       " 'val_L[e]': 24.047471756042942,\n",
       " '26dap_M[e]': 21.19513287946878,\n",
       " 'cys_L[e]': 14.558029309359497,\n",
       " 'din[e]': 11.397646846028858,\n",
       " 'phe_L[e]': 10.549400493267909,\n",
       " 'uri[e]': 8.38879424546542,\n",
       " 'no2[e]': 7.635284874185999,\n",
       " 'gam[e]': 6.830211124440318,\n",
       " 'ocdca[e]': 5.815688141460869,\n",
       " 'cytd[e]': 5.741954304205338,\n",
       " 'his_L[e]': 5.4115174779859405}"
      ]
     },
     "execution_count": 18,
     "metadata": {},
     "output_type": "execute_result"
    }
   ],
   "source": [
    "ins_n"
   ]
  },
  {
   "cell_type": "code",
   "execution_count": 10,
   "metadata": {},
   "outputs": [
    {
     "data": {
      "text/plain": [
       "{'for[e]': 978.5558788756509,\n",
       " 'nh4[e]': 1000.0,\n",
       " 'pi[e]': 981.4498978518905,\n",
       " 'orn[e]': 968.6332529264797,\n",
       " 'asp_L[e]': 420.16183514805306,\n",
       " 'ac[e]': 891.7492655218407,\n",
       " 'h[e]': 427.3001258478966,\n",
       " 'co2[e]': 604.4082915291181,\n",
       " 'ade[e]': 39.512358748016375,\n",
       " 'ppa[e]': 538.8413348683811,\n",
       " 'gua[e]': 19.896342478496592,\n",
       " 'leu_L[e]': 6.995635801362752,\n",
       " 'ala_L[e]': 500.0,\n",
       " 'pyr[e]': 319.4066424196969,\n",
       " 'gly[e]': 193.45250276519715,\n",
       " 'ser_L[e]': 108.98775992130192,\n",
       " 'dad_2[e]': 25.739799865201256}"
      ]
     },
     "execution_count": 10,
     "metadata": {},
     "output_type": "execute_result"
    }
   ],
   "source": [
    "outs_n"
   ]
  },
  {
   "cell_type": "code",
   "execution_count": 11,
   "metadata": {},
   "outputs": [
    {
     "name": "stdout",
     "output_type": "stream",
     "text": [
      "Step 3/3:  Modify the model...\n",
      "\t... done!\n",
      "\n"
     ]
    }
   ],
   "source": [
    "Recon = m2r.modify_recon(m2r.R, ins_n, outs_n, weight=m2r.weight)"
   ]
  },
  {
   "cell_type": "code",
   "execution_count": 16,
   "metadata": {},
   "outputs": [
    {
     "data": {
      "text/html": [
       "\n",
       "        <table>\n",
       "            <tr>\n",
       "                <td><strong>Reaction identifier</strong></td><td>EX_glu_L[e]</td>\n",
       "            </tr><tr>\n",
       "                <td><strong>Name</strong></td><td>Exchange of L-Glutamate </td>\n",
       "            </tr><tr>\n",
       "                <td><strong>Memory address</strong></td>\n",
       "                <td>0x07f8cec187c90</td>\n",
       "            </tr><tr>\n",
       "                <td><strong>Stoichiometry</strong></td>\n",
       "                <td>\n",
       "                    <p style='text-align:right'>glu_L[e] <=> </p>\n",
       "                    <p style='text-align:right'>L-Glutamate <=> </p>\n",
       "                </td>\n",
       "            </tr><tr>\n",
       "                <td><strong>GPR</strong></td><td></td>\n",
       "            </tr><tr>\n",
       "                <td><strong>Lower bound</strong></td><td>-1000.0</td>\n",
       "            </tr><tr>\n",
       "                <td><strong>Upper bound</strong></td><td>1000.0</td>\n",
       "            </tr>\n",
       "        </table>\n",
       "        "
      ],
      "text/plain": [
       "<Reaction EX_glu_L[e] at 0x7f8cec187c90>"
      ]
     },
     "execution_count": 16,
     "metadata": {},
     "output_type": "execute_result"
    }
   ],
   "source": [
    "m2r.R.reactions.get_by_id('EX_glu_L[e]')"
   ]
  },
  {
   "cell_type": "code",
   "execution_count": 17,
   "metadata": {},
   "outputs": [
    {
     "data": {
      "text/html": [
       "\n",
       "        <table>\n",
       "            <tr>\n",
       "                <td><strong>Reaction identifier</strong></td><td>EX_glu_L[e]</td>\n",
       "            </tr><tr>\n",
       "                <td><strong>Name</strong></td><td>Exchange of L-Glutamate </td>\n",
       "            </tr><tr>\n",
       "                <td><strong>Memory address</strong></td>\n",
       "                <td>0x07f8cf345ac10</td>\n",
       "            </tr><tr>\n",
       "                <td><strong>Stoichiometry</strong></td>\n",
       "                <td>\n",
       "                    <p style='text-align:right'>glu_L[e] <=> </p>\n",
       "                    <p style='text-align:right'>L-Glutamate <=> </p>\n",
       "                </td>\n",
       "            </tr><tr>\n",
       "                <td><strong>GPR</strong></td><td></td>\n",
       "            </tr><tr>\n",
       "                <td><strong>Lower bound</strong></td><td>-486.16620414683</td>\n",
       "            </tr><tr>\n",
       "                <td><strong>Upper bound</strong></td><td>1000.0</td>\n",
       "            </tr>\n",
       "        </table>\n",
       "        "
      ],
      "text/plain": [
       "<Reaction EX_glu_L[e] at 0x7f8cf345ac10>"
      ]
     },
     "execution_count": 17,
     "metadata": {},
     "output_type": "execute_result"
    }
   ],
   "source": [
    "Recon.reactions.get_by_id('EX_glu_L[e]')"
   ]
  }
 ],
 "metadata": {
  "kernelspec": {
   "display_name": "Python 3",
   "language": "python",
   "name": "python3"
  },
  "language_info": {
   "codemirror_mode": {
    "name": "ipython",
    "version": 3
   },
   "file_extension": ".py",
   "mimetype": "text/x-python",
   "name": "python",
   "nbconvert_exporter": "python",
   "pygments_lexer": "ipython3",
   "version": "3.7.4"
  }
 },
 "nbformat": 4,
 "nbformat_minor": 2
}
