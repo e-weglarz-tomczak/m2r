{
 "cells": [
  {
   "cell_type": "code",
   "execution_count": 1,
   "metadata": {},
   "outputs": [],
   "source": [
    "import os\n",
    "import pickle\n",
    "import cobra\n",
    "\n",
    "from m2r import Microbiota2Recon"
   ]
  },
  {
   "cell_type": "code",
   "execution_count": 2,
   "metadata": {},
   "outputs": [
    {
     "name": "stdout",
     "output_type": "stream",
     "text": [
      "\n",
      "\n",
      "Welcome to Microbiota-to-Recon (M2R) program!\n",
      "\n",
      " ***************************\n",
      " * __   __   ___     ____  *\n",
      " *|  \\ /  | / _ \\   |  _ \\ *\n",
      " *|   ^   | \\/ \\ |  | |_|/ *\n",
      " *|  | |  |   / /_  |   \\  *\n",
      " *|__| |__|  /____\\ |_|\\_\\ *\n",
      " *                         *\n",
      " ***************************\n",
      "© E. Weglarz-Tomczak & J. Tomczak\n",
      "\n",
      "This program consists of three steps that modify RECON\n",
      "by introducing information from microbiota.\n",
      "\n",
      "------------------\n",
      "\n",
      "Please provide a folder name where the microbiota files (.mat or .pickle) are (default: microbiota, type 0 if you want to skip loading microbiota): \n",
      "\t -> microbiota\n",
      "Please provide a list of names of microbiota that are supposed to influence the model separated by a space (e.g., Ruminococcus_sp_5_1_39BFAA.mat Acinetobacter_baumannii_AB0057.mat, default: load all files from the folder): \n",
      "\t -> all files in the directory will be loaded\n",
      "Please provide a value of alpha (between 0 and 1; default: 0.5): \n",
      "\t -> 0.5\n",
      "Please provide a value that fluxes should be normalized to (default: 1000.): \n",
      "\t -> 1000.0\n",
      "Please provide a directory name where the model is (default: models): \n",
      "\t -> models\n",
      "Please provide a name of the model (please rememeber about the extension: either .mat, .json, .xml, .yaml or .pickle): Recon3DModel_301.pickle\n",
      "\t -> Recon3DModel_301.pickle\n",
      "\t Loading the model (this may take a while)...\n",
      "\t\t ...success!\n",
      "Please provide a name for the new model (possible extensions: .mat, .json, .xml, .yaml or .pickle, e.g., New_recon.mat): new.json\n",
      "\t -> new.json\n",
      "\n",
      "All is set up!\n",
      "Let`s start!\n",
      "\n",
      "------------------\n",
      "\n"
     ]
    }
   ],
   "source": [
    "m2r = Microbiota2Recon()"
   ]
  },
  {
   "cell_type": "code",
   "execution_count": 3,
   "metadata": {
    "scrolled": true
   },
   "outputs": [
    {
     "name": "stdout",
     "output_type": "stream",
     "text": [
      "Step 1/3: Read microbiota...\n",
      "\t(File 1 out of 2) Vibrio_fluvialis_560.pickle\n",
      "\t(File 2 out of 2) Trueperella_pyogenes_MS249.pickle\n",
      "\t...done!\n",
      "\n"
     ]
    }
   ],
   "source": [
    "ins, outs = m2r.calculate_ins_outs(m2r.files, m2r.folder)"
   ]
  },
  {
   "cell_type": "code",
   "execution_count": 4,
   "metadata": {},
   "outputs": [
    {
     "data": {
      "text/plain": [
       "{'arg_L[e]': 2000.0,\n",
       " 'glyc3p[e]': 2000.0,\n",
       " 'gcald[e]': 998.7315731829896,\n",
       " '3mop[e]': 865.2223285129872,\n",
       " 'o2[e]': 1169.7545965403626,\n",
       " 'uri[e]': 409.4140620067445,\n",
       " 'cit[e]': 329.885644654054,\n",
       " 'thr_L[e]': 261.9377310426362,\n",
       " 'no2[e]': 79.41516839853418,\n",
       " 'lac_L[e]': 72.52867426598105,\n",
       " 'man[e]': 64.79422393696815,\n",
       " 'amp[e]': 147.84261295087944,\n",
       " 'val_L[e]': 48.094943512086246,\n",
       " 'glyleu[e]': 46.18093598666063,\n",
       " 'lys_L[e]': 38.97516019671778,\n",
       " 'gln_L[e]': 66.84122206004419,\n",
       " 'cys_L[e]': 29.11605861871921,\n",
       " 'asn_L[e]': 50.43612552437274,\n",
       " 'pro_L[e]': 46.29736463883938,\n",
       " 'dgsn[e]': 22.7952936920577,\n",
       " 'phe_L[e]': 21.098800986535974,\n",
       " 'ttdca[e]': 47.448933081260236,\n",
       " 'sucr[e]': 17.075527811100553,\n",
       " 'tyr_L[e]': 564.1640809200885,\n",
       " 'etha[e]': 12.220905620607915,\n",
       " 'ocdca[e]': 11.631376282921826,\n",
       " 'cytd[e]': 23.318860017281583,\n",
       " 'his_L[e]': 10.823034955971965,\n",
       " 'h2o[e]': 995.3945651221853,\n",
       " '2obut[e]': 753.1042240074249,\n",
       " 'hxan[e]': 309.8952654430645,\n",
       " 'gly[e]': 55.5345557753963,\n",
       " 'ala_L[e]': 51.90443880133416,\n",
       " 'leu_L[e]': 43.01753932991899,\n",
       " '26dap_M[e]': 35.22106154127062,\n",
       " 'ins[e]': 30.57027641061106,\n",
       " 'ser_L[e]': 27.474145770151218,\n",
       " 'glu_L[e]': 16.508105339114422,\n",
       " 'met_L[e]': 15.354828704637399}"
      ]
     },
     "execution_count": 4,
     "metadata": {},
     "output_type": "execute_result"
    }
   ],
   "source": [
    "ins"
   ]
  },
  {
   "cell_type": "code",
   "execution_count": 5,
   "metadata": {},
   "outputs": [
    {
     "data": {
      "text/plain": [
       "{'ac[e]': 1155.3090638039348,\n",
       " 'ala_L[e]': 1000.0,\n",
       " 'co2[e]': 1618.9490751214482,\n",
       " 'h[e]': 1514.5932673378657,\n",
       " 'ppa[e]': 1705.8721369765128,\n",
       " 'pi[e]': 1943.8995416520306,\n",
       " 'ser_L[e]': 941.2500390999842,\n",
       " 'orn[e]': 1776.6775983438074,\n",
       " 'dcyt[e]': 380.7533925176661,\n",
       " 'for[e]': 1194.862078297211,\n",
       " 'mal_L[e]': 166.30207456929648,\n",
       " 'akg[e]': 121.76182943559508,\n",
       " 'pyr[e]': 114.96222451827033,\n",
       " 'dad_2[e]': 35.01619931266562,\n",
       " 'nh4[e]': 1000.0,\n",
       " 'phe_L[e]': 516.1495933326695,\n",
       " 'asp_L[e]': 510.1330508903062,\n",
       " 'gua[e]': 324.9483330823595,\n",
       " 'ade[e]': 76.82760174556631}"
      ]
     },
     "execution_count": 5,
     "metadata": {},
     "output_type": "execute_result"
    }
   ],
   "source": [
    "outs"
   ]
  },
  {
   "cell_type": "code",
   "execution_count": 6,
   "metadata": {},
   "outputs": [
    {
     "name": "stdout",
     "output_type": "stream",
     "text": [
      "Step 2/3:  Normalize metabolites...\n",
      "\t... done!\n",
      "\n"
     ]
    }
   ],
   "source": [
    "ins_n, outs_n = m2r.normalize_ins_outs(ins, outs)"
   ]
  },
  {
   "cell_type": "code",
   "execution_count": 7,
   "metadata": {},
   "outputs": [
    {
     "data": {
      "text/plain": [
       "{'arg_L[e]': 1000.0,\n",
       " 'glyc3p[e]': 1000.0,\n",
       " 'gcald[e]': 499.3657865914948,\n",
       " '3mop[e]': 432.6111642564936,\n",
       " 'o2[e]': 584.8772982701813,\n",
       " 'uri[e]': 204.70703100337224,\n",
       " 'cit[e]': 164.942822327027,\n",
       " 'thr_L[e]': 130.9688655213181,\n",
       " 'no2[e]': 39.70758419926709,\n",
       " 'lac_L[e]': 36.264337132990526,\n",
       " 'man[e]': 32.397111968484076,\n",
       " 'amp[e]': 73.92130647543972,\n",
       " 'val_L[e]': 24.047471756043123,\n",
       " 'glyleu[e]': 23.090467993330314,\n",
       " 'lys_L[e]': 19.48758009835889,\n",
       " 'gln_L[e]': 33.420611030022094,\n",
       " 'cys_L[e]': 14.558029309359606,\n",
       " 'asn_L[e]': 25.21806276218637,\n",
       " 'pro_L[e]': 23.14868231941969,\n",
       " 'dgsn[e]': 11.39764684602885,\n",
       " 'phe_L[e]': 10.549400493267987,\n",
       " 'ttdca[e]': 23.724466540630118,\n",
       " 'sucr[e]': 8.537763905550277,\n",
       " 'tyr_L[e]': 282.08204046004425,\n",
       " 'etha[e]': 6.110452810303958,\n",
       " 'ocdca[e]': 5.815688141460913,\n",
       " 'cytd[e]': 11.659430008640792,\n",
       " 'his_L[e]': 5.411517477985982,\n",
       " 'h2o[e]': 497.69728256109266,\n",
       " '2obut[e]': 376.55211200371247,\n",
       " 'hxan[e]': 154.94763272153224,\n",
       " 'gly[e]': 27.76727788769815,\n",
       " 'ala_L[e]': 25.95221940066708,\n",
       " 'leu_L[e]': 21.508769664959495,\n",
       " '26dap_M[e]': 17.61053077063531,\n",
       " 'ins[e]': 15.28513820530553,\n",
       " 'ser_L[e]': 13.737072885075609,\n",
       " 'glu_L[e]': 8.254052669557211,\n",
       " 'met_L[e]': 7.677414352318699}"
      ]
     },
     "execution_count": 7,
     "metadata": {},
     "output_type": "execute_result"
    }
   ],
   "source": [
    "ins_n"
   ]
  },
  {
   "cell_type": "code",
   "execution_count": 8,
   "metadata": {},
   "outputs": [
    {
     "data": {
      "text/plain": [
       "{'ac[e]': 577.6545319019674,\n",
       " 'ala_L[e]': 500.0,\n",
       " 'co2[e]': 809.4745375607241,\n",
       " 'h[e]': 757.2966336689328,\n",
       " 'ppa[e]': 852.9360684882564,\n",
       " 'pi[e]': 971.9497708260153,\n",
       " 'ser_L[e]': 470.6250195499921,\n",
       " 'orn[e]': 888.3387991719037,\n",
       " 'dcyt[e]': 190.37669625883305,\n",
       " 'for[e]': 597.4310391486055,\n",
       " 'mal_L[e]': 83.15103728464824,\n",
       " 'akg[e]': 60.88091471779754,\n",
       " 'pyr[e]': 57.481112259135166,\n",
       " 'dad_2[e]': 17.50809965633281,\n",
       " 'nh4[e]': 500.0,\n",
       " 'phe_L[e]': 258.07479666633475,\n",
       " 'asp_L[e]': 255.06652544515313,\n",
       " 'gua[e]': 162.47416654117976,\n",
       " 'ade[e]': 38.413800872783156}"
      ]
     },
     "execution_count": 8,
     "metadata": {},
     "output_type": "execute_result"
    }
   ],
   "source": [
    "outs_n"
   ]
  },
  {
   "cell_type": "code",
   "execution_count": 9,
   "metadata": {},
   "outputs": [
    {
     "name": "stdout",
     "output_type": "stream",
     "text": [
      "Step 3/3:  Modify the model...\n",
      "\t... done!\n",
      "\n"
     ]
    }
   ],
   "source": [
    "Recon = m2r.modify_recon(m2r.R, ins_n, outs_n, alpha=m2r.alpha)"
   ]
  },
  {
   "cell_type": "code",
   "execution_count": 10,
   "metadata": {},
   "outputs": [
    {
     "data": {
      "text/html": [
       "\n",
       "        <table>\n",
       "            <tr>\n",
       "                <td><strong>Reaction identifier</strong></td><td>EX_glu_L[e]</td>\n",
       "            </tr><tr>\n",
       "                <td><strong>Name</strong></td><td>Exchange of L-Glutamate </td>\n",
       "            </tr><tr>\n",
       "                <td><strong>Memory address</strong></td>\n",
       "                <td>0x07faa5fa9f210</td>\n",
       "            </tr><tr>\n",
       "                <td><strong>Stoichiometry</strong></td>\n",
       "                <td>\n",
       "                    <p style='text-align:right'>glu_L[e] <=> </p>\n",
       "                    <p style='text-align:right'>L-Glutamate <=> </p>\n",
       "                </td>\n",
       "            </tr><tr>\n",
       "                <td><strong>GPR</strong></td><td></td>\n",
       "            </tr><tr>\n",
       "                <td><strong>Lower bound</strong></td><td>-1000.0</td>\n",
       "            </tr><tr>\n",
       "                <td><strong>Upper bound</strong></td><td>1000.0</td>\n",
       "            </tr>\n",
       "        </table>\n",
       "        "
      ],
      "text/plain": [
       "<Reaction EX_glu_L[e] at 0x7faa5fa9f210>"
      ]
     },
     "execution_count": 10,
     "metadata": {},
     "output_type": "execute_result"
    }
   ],
   "source": [
    "m2r.R.reactions.get_by_id('EX_glu_L[e]')"
   ]
  },
  {
   "cell_type": "code",
   "execution_count": 11,
   "metadata": {},
   "outputs": [
    {
     "data": {
      "text/html": [
       "\n",
       "        <table>\n",
       "            <tr>\n",
       "                <td><strong>Reaction identifier</strong></td><td>EX_glu_L[e]</td>\n",
       "            </tr><tr>\n",
       "                <td><strong>Name</strong></td><td>Exchange of L-Glutamate </td>\n",
       "            </tr><tr>\n",
       "                <td><strong>Memory address</strong></td>\n",
       "                <td>0x07faa6571f450</td>\n",
       "            </tr><tr>\n",
       "                <td><strong>Stoichiometry</strong></td>\n",
       "                <td>\n",
       "                    <p style='text-align:right'>glu_L[e] <=> </p>\n",
       "                    <p style='text-align:right'>L-Glutamate <=> </p>\n",
       "                </td>\n",
       "            </tr><tr>\n",
       "                <td><strong>GPR</strong></td><td></td>\n",
       "            </tr><tr>\n",
       "                <td><strong>Lower bound</strong></td><td>-495.87297366522137</td>\n",
       "            </tr><tr>\n",
       "                <td><strong>Upper bound</strong></td><td>500.0</td>\n",
       "            </tr>\n",
       "        </table>\n",
       "        "
      ],
      "text/plain": [
       "<Reaction EX_glu_L[e] at 0x7faa6571f450>"
      ]
     },
     "execution_count": 11,
     "metadata": {},
     "output_type": "execute_result"
    }
   ],
   "source": [
    "Recon.reactions.get_by_id('EX_glu_L[e]')"
   ]
  }
 ],
 "metadata": {
  "kernelspec": {
   "display_name": "Python 3",
   "language": "python",
   "name": "python3"
  },
  "language_info": {
   "codemirror_mode": {
    "name": "ipython",
    "version": 3
   },
   "file_extension": ".py",
   "mimetype": "text/x-python",
   "name": "python",
   "nbconvert_exporter": "python",
   "pygments_lexer": "ipython3",
   "version": "3.7.4"
  }
 },
 "nbformat": 4,
 "nbformat_minor": 2
}
